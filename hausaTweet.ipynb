{
 "cells": [
  {
   "cell_type": "code",
   "execution_count": 3,
   "metadata": {},
   "outputs": [],
   "source": [
    "#import libraries\n",
    "\n",
    "import pandas as pd\n",
    "import numpy as np\n",
    "import sklearn.metrics as metrics\n",
    "import matplotlib.pyplot as plt\n",
    "import seaborn as sns\n",
    "\n",
    "#import Sckit-helper functions\n",
    "from sklearn.model_selection import train_test_split\n",
    "from sklearn.feature_extraction.text import TfidfVectorizer, CountVectorizer\n",
    "\n",
    "#import Scikit-learn machine models\n",
    "from sklearn.naive_bayes import MultinomialNB\n",
    "from sklearn.linear_model import LogisticRegression\n",
    "\n",
    "#import performance metrics functions\n",
    "from sklearn.metrics import confusion_matrix\n",
    "from sklearn.metrics import classification_report"
   ]
  },
  {
   "cell_type": "code",
   "execution_count": 4,
   "metadata": {},
   "outputs": [
    {
     "data": {
      "text/html": [
       "<div>\n",
       "<style scoped>\n",
       "    .dataframe tbody tr th:only-of-type {\n",
       "        vertical-align: middle;\n",
       "    }\n",
       "\n",
       "    .dataframe tbody tr th {\n",
       "        vertical-align: top;\n",
       "    }\n",
       "\n",
       "    .dataframe thead th {\n",
       "        text-align: right;\n",
       "    }\n",
       "</style>\n",
       "<table border=\"1\" class=\"dataframe\">\n",
       "  <thead>\n",
       "    <tr style=\"text-align: right;\">\n",
       "      <th></th>\n",
       "      <th>linenumber</th>\n",
       "      <th>sentiment</th>\n",
       "      <th>tweet_text</th>\n",
       "    </tr>\n",
       "  </thead>\n",
       "  <tbody>\n",
       "    <tr>\n",
       "      <th>0</th>\n",
       "      <td>1</td>\n",
       "      <td>2</td>\n",
       "      <td>Wllh ana biya sbd kudin beli yawa ne dasu har ...</td>\n",
       "    </tr>\n",
       "    <tr>\n",
       "      <th>1</th>\n",
       "      <td>2</td>\n",
       "      <td>3</td>\n",
       "      <td>Kowa yayi da damisa ya duba jikinsa.</td>\n",
       "    </tr>\n",
       "    <tr>\n",
       "      <th>2</th>\n",
       "      <td>3</td>\n",
       "      <td>3</td>\n",
       "      <td>Duk wanda ka gani a cikin motar kai shi ka yi ...</td>\n",
       "    </tr>\n",
       "    <tr>\n",
       "      <th>3</th>\n",
       "      <td>4</td>\n",
       "      <td>-1</td>\n",
       "      <td>Allah ya tsinewa masu 'karya</td>\n",
       "    </tr>\n",
       "    <tr>\n",
       "      <th>4</th>\n",
       "      <td>5</td>\n",
       "      <td>-2</td>\n",
       "      <td>Mutane Basu D Adalcin Magana, Shugaba Yace Zai...</td>\n",
       "    </tr>\n",
       "    <tr>\n",
       "      <th>...</th>\n",
       "      <td>...</td>\n",
       "      <td>...</td>\n",
       "      <td>...</td>\n",
       "    </tr>\n",
       "    <tr>\n",
       "      <th>2944</th>\n",
       "      <td>4193</td>\n",
       "      <td>1</td>\n",
       "      <td>Muma burin haka. Domain wanna makircine ga zam...</td>\n",
       "    </tr>\n",
       "    <tr>\n",
       "      <th>2945</th>\n",
       "      <td>4194</td>\n",
       "      <td>-2</td>\n",
       "      <td>Ay dama raini ne da rashin hankali.. Amma in b...</td>\n",
       "    </tr>\n",
       "    <tr>\n",
       "      <th>2946</th>\n",
       "      <td>4196</td>\n",
       "      <td>-1</td>\n",
       "      <td>Shikenan Wanda aka konawa ababen hawa sai dai ...</td>\n",
       "    </tr>\n",
       "    <tr>\n",
       "      <th>2947</th>\n",
       "      <td>4198</td>\n",
       "      <td>7</td>\n",
       "      <td>Wannan abun a yaba ne, domin hakan zai sake in...</td>\n",
       "    </tr>\n",
       "    <tr>\n",
       "      <th>2948</th>\n",
       "      <td>4199</td>\n",
       "      <td>-1</td>\n",
       "      <td>Na zata rivers bata cikin IPOB</td>\n",
       "    </tr>\n",
       "  </tbody>\n",
       "</table>\n",
       "<p>2949 rows × 3 columns</p>\n",
       "</div>"
      ],
      "text/plain": [
       "      linenumber  sentiment                                         tweet_text\n",
       "0              1          2  Wllh ana biya sbd kudin beli yawa ne dasu har ...\n",
       "1              2          3               Kowa yayi da damisa ya duba jikinsa.\n",
       "2              3          3  Duk wanda ka gani a cikin motar kai shi ka yi ...\n",
       "3              4         -1                       Allah ya tsinewa masu 'karya\n",
       "4              5         -2  Mutane Basu D Adalcin Magana, Shugaba Yace Zai...\n",
       "...          ...        ...                                                ...\n",
       "2944        4193          1  Muma burin haka. Domain wanna makircine ga zam...\n",
       "2945        4194         -2  Ay dama raini ne da rashin hankali.. Amma in b...\n",
       "2946        4196         -1  Shikenan Wanda aka konawa ababen hawa sai dai ...\n",
       "2947        4198          7  Wannan abun a yaba ne, domin hakan zai sake in...\n",
       "2948        4199         -1                     Na zata rivers bata cikin IPOB\n",
       "\n",
       "[2949 rows x 3 columns]"
      ]
     },
     "execution_count": 4,
     "metadata": {},
     "output_type": "execute_result"
    }
   ],
   "source": [
    "#importing dataset\n",
    "\n",
    "data = pd.read_csv('sentiment_analysis_ouptut.csv')\n",
    "data"
   ]
  },
  {
   "cell_type": "code",
   "execution_count": 3,
   "metadata": {},
   "outputs": [
    {
     "data": {
      "text/html": [
       "<div>\n",
       "<style scoped>\n",
       "    .dataframe tbody tr th:only-of-type {\n",
       "        vertical-align: middle;\n",
       "    }\n",
       "\n",
       "    .dataframe tbody tr th {\n",
       "        vertical-align: top;\n",
       "    }\n",
       "\n",
       "    .dataframe thead th {\n",
       "        text-align: right;\n",
       "    }\n",
       "</style>\n",
       "<table border=\"1\" class=\"dataframe\">\n",
       "  <thead>\n",
       "    <tr style=\"text-align: right;\">\n",
       "      <th></th>\n",
       "      <th>linenumber</th>\n",
       "      <th>sentiment</th>\n",
       "      <th>tweet_text</th>\n",
       "    </tr>\n",
       "  </thead>\n",
       "  <tbody>\n",
       "    <tr>\n",
       "      <th>0</th>\n",
       "      <td>1</td>\n",
       "      <td>1</td>\n",
       "      <td>Wllh ana biya sbd kudin beli yawa ne dasu har ...</td>\n",
       "    </tr>\n",
       "    <tr>\n",
       "      <th>1</th>\n",
       "      <td>2</td>\n",
       "      <td>1</td>\n",
       "      <td>Kowa yayi da damisa ya duba jikinsa.</td>\n",
       "    </tr>\n",
       "    <tr>\n",
       "      <th>2</th>\n",
       "      <td>3</td>\n",
       "      <td>1</td>\n",
       "      <td>Duk wanda ka gani a cikin motar kai shi ka yi ...</td>\n",
       "    </tr>\n",
       "    <tr>\n",
       "      <th>3</th>\n",
       "      <td>4</td>\n",
       "      <td>0</td>\n",
       "      <td>Allah ya tsinewa masu 'karya</td>\n",
       "    </tr>\n",
       "    <tr>\n",
       "      <th>4</th>\n",
       "      <td>5</td>\n",
       "      <td>0</td>\n",
       "      <td>Mutane Basu D Adalcin Magana, Shugaba Yace Zai...</td>\n",
       "    </tr>\n",
       "    <tr>\n",
       "      <th>...</th>\n",
       "      <td>...</td>\n",
       "      <td>...</td>\n",
       "      <td>...</td>\n",
       "    </tr>\n",
       "    <tr>\n",
       "      <th>2944</th>\n",
       "      <td>4193</td>\n",
       "      <td>1</td>\n",
       "      <td>Muma burin haka. Domain wanna makircine ga zam...</td>\n",
       "    </tr>\n",
       "    <tr>\n",
       "      <th>2945</th>\n",
       "      <td>4194</td>\n",
       "      <td>0</td>\n",
       "      <td>Ay dama raini ne da rashin hankali.. Amma in b...</td>\n",
       "    </tr>\n",
       "    <tr>\n",
       "      <th>2946</th>\n",
       "      <td>4196</td>\n",
       "      <td>0</td>\n",
       "      <td>Shikenan Wanda aka konawa ababen hawa sai dai ...</td>\n",
       "    </tr>\n",
       "    <tr>\n",
       "      <th>2947</th>\n",
       "      <td>4198</td>\n",
       "      <td>1</td>\n",
       "      <td>Wannan abun a yaba ne, domin hakan zai sake in...</td>\n",
       "    </tr>\n",
       "    <tr>\n",
       "      <th>2948</th>\n",
       "      <td>4199</td>\n",
       "      <td>0</td>\n",
       "      <td>Na zata rivers bata cikin IPOB</td>\n",
       "    </tr>\n",
       "  </tbody>\n",
       "</table>\n",
       "<p>2949 rows × 3 columns</p>\n",
       "</div>"
      ],
      "text/plain": [
       "      linenumber  sentiment                                         tweet_text\n",
       "0              1          1  Wllh ana biya sbd kudin beli yawa ne dasu har ...\n",
       "1              2          1               Kowa yayi da damisa ya duba jikinsa.\n",
       "2              3          1  Duk wanda ka gani a cikin motar kai shi ka yi ...\n",
       "3              4          0                       Allah ya tsinewa masu 'karya\n",
       "4              5          0  Mutane Basu D Adalcin Magana, Shugaba Yace Zai...\n",
       "...          ...        ...                                                ...\n",
       "2944        4193          1  Muma burin haka. Domain wanna makircine ga zam...\n",
       "2945        4194          0  Ay dama raini ne da rashin hankali.. Amma in b...\n",
       "2946        4196          0  Shikenan Wanda aka konawa ababen hawa sai dai ...\n",
       "2947        4198          1  Wannan abun a yaba ne, domin hakan zai sake in...\n",
       "2948        4199          0                     Na zata rivers bata cikin IPOB\n",
       "\n",
       "[2949 rows x 3 columns]"
      ]
     },
     "execution_count": 3,
     "metadata": {},
     "output_type": "execute_result"
    }
   ],
   "source": [
    "#Categorizing sentiments \n",
    "#(-1 downward as negative sentiment category[0])\n",
    "#(+1 upward as positive sentiment category [1])\n",
    "\n",
    "data.loc[(data['sentiment'] <0 ), 'sentiment'] = 0\n",
    "data.loc[(data['sentiment'] >0), 'sentiment'] = 1\n",
    "\n",
    "j = 0\n",
    "for i in range(0,1):\n",
    "    data.loc[(data[\"sentiment\"] >= j) & (data[\"sentiment\"] <= i*10), \"sentiment\"] = i*10\n",
    "    i = i + 1\n",
    "    j = j + 10\n",
    "\n",
    "data"
   ]
  },
  {
   "cell_type": "code",
   "execution_count": 4,
   "metadata": {},
   "outputs": [
    {
     "name": "stdout",
     "output_type": "stream",
     "text": [
      "\n",
      "### Split Complete ###\n",
      "\n"
     ]
    }
   ],
   "source": [
    "#data split into training and testing datastet\n",
    "\n",
    "test_percentage = .2\n",
    "train_df, test_df = train_test_split(data, test_size=test_percentage, random_state=42)\n",
    "\n",
    "labels = train_df['sentiment']\n",
    "test_labels = test_df['sentiment']\n",
    "\n",
    "print(\"\\n### Split Complete ###\\n\")"
   ]
  },
  {
   "cell_type": "code",
   "execution_count": 5,
   "metadata": {},
   "outputs": [
    {
     "name": "stdout",
     "output_type": "stream",
     "text": [
      "- Counting Splits -\n",
      "Training Samples: 2359\n",
      "Testing Samples: 590\n"
     ]
    },
    {
     "data": {
      "image/png": "[encoded data removed]",
      "text/plain": [
       "<Figure size 432x288 with 1 Axes>"
      ]
     },
     "metadata": {
      "needs_background": "light"
     },
     "output_type": "display_data"
    },
    {
     "data": {
      "image/png": "[encoded data removed]",
      "text/plain": [
       "<Figure size 432x288 with 1 Axes>"
      ]
     },
     "metadata": {
      "needs_background": "light"
     },
     "output_type": "display_data"
    }
   ],
   "source": [
    "# Print counts of each class\n",
    "print(\"- Counting Splits -\")\n",
    "print(\"Training Samples:\", len(train_df))\n",
    "print(\"Testing Samples:\", len(test_df))\n",
    "\n",
    "# Graph counts of each class, for both training and testing\n",
    "\n",
    "count_train_classes = pd.value_counts(train_df['sentiment'])\n",
    "count_train_classes.plot(kind='bar', fontsize=16)\n",
    "plt.title(\"Sentiment Count (Training)\", fontsize=20)\n",
    "plt.xticks(rotation='horizontal')\n",
    "plt.xlabel(\"Sentiment\", fontsize=20)\n",
    "plt.ylabel(\"Sentiment Count\", fontsize=20)\n",
    "\n",
    "plt.show()\n",
    "\n",
    "count_test_classes = pd.value_counts(test_df['sentiment'])\n",
    "count_test_classes.plot(kind='bar', fontsize=16, colormap='ocean')\n",
    "plt.title(\"Sentiment Count (Testing)\", fontsize=20)\n",
    "plt.xticks(rotation='horizontal')\n",
    "plt.xlabel(\"Sentiment\", fontsize=20)\n",
    "plt.ylabel(\"Sentiment Count\", fontsize=20)\n",
    "\n",
    "plt.show()"
   ]
  },
  {
   "cell_type": "code",
   "execution_count": 6,
   "metadata": {},
   "outputs": [
    {
     "name": "stdout",
     "output_type": "stream",
     "text": [
      "- Training Count Vectorizer -\n",
      "- Training TF-IDF Vectorizer -\n",
      "\n",
      "### Vectorizing Complete ###\n",
      "\n"
     ]
    }
   ],
   "source": [
    "# Vectorizer the training inputs -- Takes about 30 seconds to complete\n",
    "#   There are two types of vectors:\n",
    "#     1. Count vectorizer\n",
    "#     2. Term Frequency-Inverse Document Frequency (TF-IDF)\n",
    "\n",
    "\n",
    "\n",
    "print(\"- Training Count Vectorizer -\")\n",
    "cVec = CountVectorizer()\n",
    "count_X = cVec.fit_transform(train_df['tweet_text'])\n",
    "\n",
    "print(\"- Training TF-IDF Vectorizer -\")\n",
    "tVec = TfidfVectorizer()\n",
    "tfidf_X = tVec.fit_transform(train_df['tweet_text'])\n",
    "\n",
    "\n",
    "print(\"\\n### Vectorizing Complete ###\\n\")"
   ]
  },
  {
   "cell_type": "code",
   "execution_count": 7,
   "metadata": {},
   "outputs": [
    {
     "name": "stdout",
     "output_type": "stream",
     "text": [
      "- Count Vectorizer -\n",
      "- TFIDF Vectorizer -\n",
      "\n",
      "### Vectorizing Complete ###\n",
      "\n"
     ]
    }
   ],
   "source": [
    "# Vectorize the testing inputs\n",
    "#   Use 'transform' instead of 'fit_transform' because we've already trained our vectorizers\n",
    "\n",
    "print(\"- Count Vectorizer -\")\n",
    "test_count_X = cVec.transform(test_df['tweet_text'])\n",
    "\n",
    "print(\"- TFIDF Vectorizer -\")\n",
    "test_tfidf_X = tVec.transform(test_df['tweet_text'])\n",
    "\n",
    "\n",
    "print(\"\\n### Vectorizing Complete ###\\n\")"
   ]
  },
  {
   "cell_type": "code",
   "execution_count": 8,
   "metadata": {},
   "outputs": [
    {
     "name": "stdout",
     "output_type": "stream",
     "text": [
      "\n",
      "### Report Generator Defined ###\n",
      "\n"
     ]
    }
   ],
   "source": [
    "def generate_report(cmatrix, score, creport):\n",
    "  \"\"\"Generates and displays graphical reports\n",
    "  Keyword arguments:\n",
    "    cmatrix - Confusion matrix generated by the model\n",
    "    score --- Score generated by the model\n",
    "    creport - Classification Report generated by the model\n",
    "    \n",
    "  :Returns -- N/A\n",
    "  \"\"\"\n",
    "  \n",
    "  # Transform cmatrix because Sklearn has pred as columns and actual as rows.\n",
    "  cmatrix = cmatrix.T\n",
    "  \n",
    "  # Generate confusion matrix heatmap\n",
    "  plt.figure(figsize=(5,5))\n",
    "  sns.heatmap(cmatrix, \n",
    "              annot=True, \n",
    "              fmt=\"d\", \n",
    "              linewidths=.5, \n",
    "              square = True, \n",
    "              cmap = 'Blues', \n",
    "              annot_kws={\"size\": 16}, \n",
    "              xticklabels=['negative', 'positive'],\n",
    "              yticklabels=['negative', 'positive'])\n",
    "\n",
    "  plt.xticks(rotation='horizontal', fontsize=16)\n",
    "  plt.yticks(rotation='horizontal', fontsize=16)\n",
    "  plt.xlabel('Actual Label', size=20);\n",
    "  plt.ylabel('Predicted Label', size=20);\n",
    "\n",
    "  title = 'Accuracy Score: {0:.4f}'.format(score)\n",
    "  plt.title(title, size = 20);\n",
    "\n",
    "  # Display classification report and confusion matrix\n",
    "  print(creport)\n",
    "  plt.show()\n",
    "  \n",
    "\n",
    "print(\"\\n### Report Generator Defined ###\\n\")"
   ]
  },
  {
   "cell_type": "code",
   "execution_count": 9,
   "metadata": {},
   "outputs": [
    {
     "name": "stdout",
     "output_type": "stream",
     "text": [
      "\n",
      "### Model Built ###\n",
      "\n",
      "              precision    recall  f1-score   support\n",
      "\n",
      "           0       0.77      0.87      0.82       306\n",
      "           1       0.84      0.72      0.77       284\n",
      "\n",
      "    accuracy                           0.80       590\n",
      "   macro avg       0.80      0.80      0.80       590\n",
      "weighted avg       0.80      0.80      0.80       590\n",
      "\n"
     ]
    },
    {
     "data": {
      "image/png": "[encoded data removed]",
      "text/plain": [
       "<Figure size 360x360 with 2 Axes>"
      ]
     },
     "metadata": {
      "needs_background": "light"
     },
     "output_type": "display_data"
    }
   ],
   "source": [
    "# Multinomial Naive Bayesian with TF-IDF\n",
    "\n",
    "# Train the model\n",
    "mnb_tfidf = MultinomialNB()\n",
    "mnb_tfidf.fit(tfidf_X, labels)\n",
    "\n",
    "\n",
    "# Test the mode (score, predictions, confusion matrix, classification report)\n",
    "score_mnb_tfidf = mnb_tfidf.score(test_tfidf_X, test_labels)\n",
    "predictions_mnb_tfidf = mnb_tfidf.predict(test_tfidf_X)\n",
    "cmatrix_mnb_tfidf = confusion_matrix(test_labels, predictions_mnb_tfidf)\n",
    "creport_mnb_tfidf = classification_report(test_labels, predictions_mnb_tfidf)\n",
    "\n",
    "print(\"\\n### Model Built ###\\n\")\n",
    "generate_report(cmatrix_mnb_tfidf, score_mnb_tfidf, creport_mnb_tfidf)"
   ]
  },
  {
   "cell_type": "code",
   "execution_count": 10,
   "metadata": {},
   "outputs": [
    {
     "name": "stdout",
     "output_type": "stream",
     "text": [
      "\n",
      "### Model Built ###\n",
      "\n",
      "              precision    recall  f1-score   support\n",
      "\n",
      "           0       0.84      0.76      0.80       306\n",
      "           1       0.77      0.84      0.80       284\n",
      "\n",
      "    accuracy                           0.80       590\n",
      "   macro avg       0.80      0.80      0.80       590\n",
      "weighted avg       0.80      0.80      0.80       590\n",
      "\n"
     ]
    },
    {
     "data": {
      "image/png": "[encoded data removed]",
      "text/plain": [
       "<Figure size 360x360 with 2 Axes>"
      ]
     },
     "metadata": {
      "needs_background": "light"
     },
     "output_type": "display_data"
    }
   ],
   "source": [
    "# Multinomial Naive Bayesian with Count Vectorizer\n",
    "\n",
    "# Train the model\n",
    "mnb_count = MultinomialNB()\n",
    "mnb_count.fit(count_X, labels)\n",
    "\n",
    "\n",
    "# Test the mode (score, predictions, confusion matrix, classification report)\n",
    "score_mnb_count = mnb_count.score(test_count_X, test_labels)\n",
    "predictions_mnb_count = mnb_count.predict(test_count_X)\n",
    "cmatrix_mnb_count = confusion_matrix(test_labels, predictions_mnb_count)\n",
    "creport_mnb_count = classification_report(test_labels, predictions_mnb_count)\n",
    "\n",
    "print(\"\\n### Model Built ###\\n\")\n",
    "generate_report(cmatrix_mnb_count, score_mnb_count, creport_mnb_count)"
   ]
  },
  {
   "cell_type": "code",
   "execution_count": 11,
   "metadata": {},
   "outputs": [
    {
     "name": "stdout",
     "output_type": "stream",
     "text": [
      "\n",
      "### Model Built ###\n",
      "\n",
      "              precision    recall  f1-score   support\n",
      "\n",
      "           0       0.79      0.93      0.85       306\n",
      "           1       0.90      0.73      0.81       284\n",
      "\n",
      "    accuracy                           0.83       590\n",
      "   macro avg       0.85      0.83      0.83       590\n",
      "weighted avg       0.84      0.83      0.83       590\n",
      "\n"
     ]
    },
    {
     "data": {
      "image/png": "[encoded data removed]",
      "text/plain": [
       "<Figure size 360x360 with 2 Axes>"
      ]
     },
     "metadata": {
      "needs_background": "light"
     },
     "output_type": "display_data"
    }
   ],
   "source": [
    "# Logistic Regression with TF-IDF\n",
    "\n",
    "# Train the model\n",
    "lgs_tfidf = LogisticRegression(solver='lbfgs')\n",
    "lgs_tfidf.fit(tfidf_X, labels)\n",
    "\n",
    "\n",
    "# Test the mode (score, predictions, confusion matrix, classification report)\n",
    "score_lgs_tfidf = lgs_tfidf.score(test_tfidf_X, test_labels)\n",
    "predictions_lgs_tfidf = lgs_tfidf.predict(test_tfidf_X)\n",
    "cmatrix_lgs_tfidf = confusion_matrix(test_labels, predictions_lgs_tfidf)\n",
    "creport_lgs_tfidf = classification_report(test_labels, predictions_lgs_tfidf)\n",
    "\n",
    "print(\"\\n### Model Built ###\\n\")\n",
    "generate_report(cmatrix_lgs_tfidf, score_lgs_tfidf, creport_lgs_tfidf)"
   ]
  },
  {
   "cell_type": "code",
   "execution_count": 12,
   "metadata": {},
   "outputs": [
    {
     "name": "stdout",
     "output_type": "stream",
     "text": [
      "\n",
      "### Model Built ###\n",
      "\n",
      "              precision    recall  f1-score   support\n",
      "\n",
      "           0       0.83      0.93      0.88       306\n",
      "           1       0.91      0.80      0.85       284\n",
      "\n",
      "    accuracy                           0.86       590\n",
      "   macro avg       0.87      0.86      0.86       590\n",
      "weighted avg       0.87      0.86      0.86       590\n",
      "\n"
     ]
    },
    {
     "data": {
      "image/png": "[encoded data removed]",
      "text/plain": [
       "<Figure size 360x360 with 2 Axes>"
      ]
     },
     "metadata": {
      "needs_background": "light"
     },
     "output_type": "display_data"
    }
   ],
   "source": [
    "# Logistic Regression with Count Vectorizer\n",
    "\n",
    "# Train the model\n",
    "lgs_count = LogisticRegression(solver='lbfgs')\n",
    "lgs_count.fit(count_X, labels)\n",
    "\n",
    "\n",
    "# Test the mode (score, predictions, confusion matrix, classification report)\n",
    "score_lgs_count = lgs_count.score(test_count_X, test_labels)\n",
    "predictions_lgs_count = lgs_count.predict(test_count_X)\n",
    "cmatrix_lgs_count = confusion_matrix(test_labels, predictions_lgs_count)\n",
    "creport_lgs_count = classification_report(test_labels, predictions_lgs_count)\n",
    "\n",
    "print(\"\\n### Model Built ###\\n\")\n",
    "generate_report(cmatrix_lgs_count, score_lgs_count, creport_lgs_count)"
   ]
  }
 ],
 "metadata": {
  "interpreter": {
   "hash": "31f2aee4e71d21fbe5cf8b01ff0e069b9275f58929596ceb00d14d90e3e16cd6"
  },
  "kernelspec": {
   "display_name": "Python 3.6.9 64-bit",
   "name": "python3"
  },
  "language_info": {
   "codemirror_mode": {
    "name": "ipython",
    "version": 3
   },
   "file_extension": ".py",
   "mimetype": "text/x-python",
   "name": "python",
   "nbconvert_exporter": "python",
   "pygments_lexer": "ipython3",
   "version": "3.6.9"
  },
  "orig_nbformat": 4
 },
 "nbformat": 4,
 "nbformat_minor": 2
}